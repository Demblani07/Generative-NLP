{
 "cells": [
  {
   "cell_type": "code",
   "execution_count": 1,
   "id": "735909ac",
   "metadata": {},
   "outputs": [
    {
     "name": "stderr",
     "output_type": "stream",
     "text": [
      "[nltk_data] Downloading package punkt to\n",
      "[nltk_data]     C:\\Users\\DELL\\AppData\\Roaming\\nltk_data...\n",
      "[nltk_data]   Package punkt is already up-to-date!\n",
      "[nltk_data] Downloading package maxent_ne_chunker to\n",
      "[nltk_data]     C:\\Users\\DELL\\AppData\\Roaming\\nltk_data...\n",
      "[nltk_data]   Package maxent_ne_chunker is already up-to-date!\n",
      "[nltk_data] Downloading package words to\n",
      "[nltk_data]     C:\\Users\\DELL\\AppData\\Roaming\\nltk_data...\n",
      "[nltk_data]   Package words is already up-to-date!\n",
      "[nltk_data] Downloading package averaged_perceptron_tagger to\n",
      "[nltk_data]     C:\\Users\\DELL\\AppData\\Roaming\\nltk_data...\n",
      "[nltk_data]   Package averaged_perceptron_tagger is already up-to-\n",
      "[nltk_data]       date!\n"
     ]
    },
    {
     "data": {
      "text/plain": [
       "True"
      ]
     },
     "execution_count": 1,
     "metadata": {},
     "output_type": "execute_result"
    }
   ],
   "source": [
    "import nltk\n",
    "from nltk import word_tokenize, pos_tag, ne_chunk\n",
    "\n",
    "# Download necessary resources (run once)\n",
    "nltk.download('punkt')\n",
    "nltk.download('maxent_ne_chunker')\n",
    "nltk.download('words')\n",
    "nltk.download('averaged_perceptron_tagger')"
   ]
  },
  {
   "cell_type": "code",
   "execution_count": 2,
   "id": "83ad8ee7",
   "metadata": {},
   "outputs": [],
   "source": [
    "# List of sentences\n",
    "sentences = [\n",
    "    \"Shivi plays football in New York every summer.\",\n",
    "    \"Delhi hosted an international football tournament.\",\n",
    "    \"Shivi traveled from Delhi to New York to play football.\",\n",
    "    \"Football is Shivi's favorite sport in Delhi.\",\n",
    "    \"In New York, Shivi met players from different countries.\"\n",
    "]"
   ]
  },
  {
   "cell_type": "code",
   "execution_count": 3,
   "id": "20b63a9c",
   "metadata": {},
   "outputs": [],
   "source": [
    "# Function to extract named entities (without using nltk.tree.Tree)\n",
    "def extract_named_entities(text):\n",
    "    tokens = word_tokenize(text)\n",
    "    tags = pos_tag(tokens)\n",
    "    tree = ne_chunk(tags, binary=False)\n",
    "\n",
    "    named_entities = []\n",
    "    for subtree in tree:\n",
    "        # Avoid using isinstance(subtree, Tree)\n",
    "        if hasattr(subtree, 'label'):  # Check if subtree has a label (indicates it's a named entity chunk)\n",
    "            entity_name = \" \".join([token for token, pos in subtree.leaves()])\n",
    "            entity_type = subtree.label()\n",
    "            named_entities.append((entity_name, entity_type))\n",
    "    return named_entities"
   ]
  },
  {
   "cell_type": "code",
   "execution_count": 4,
   "id": "00e3585c",
   "metadata": {},
   "outputs": [
    {
     "name": "stdout",
     "output_type": "stream",
     "text": [
      "\n",
      "Sentence 1: Shivi plays football in New York every summer.\n",
      "Named Entities:\n",
      "  - Shivi (GPE)\n",
      "  - New York (GPE)\n",
      "\n",
      "Sentence 2: Delhi hosted an international football tournament.\n",
      "Named Entities:\n",
      "  - Delhi (PERSON)\n",
      "\n",
      "Sentence 3: Shivi traveled from Delhi to New York to play football.\n",
      "Named Entities:\n",
      "  - Shivi (PERSON)\n",
      "  - Delhi (GPE)\n",
      "  - New York (GPE)\n",
      "\n",
      "Sentence 4: Football is Shivi's favorite sport in Delhi.\n",
      "Named Entities:\n",
      "  - Football (GPE)\n",
      "  - Shivi (PERSON)\n",
      "  - Delhi (GPE)\n",
      "\n",
      "Sentence 5: In New York, Shivi met players from different countries.\n",
      "Named Entities:\n",
      "  - New York (GPE)\n",
      "  - Shivi (PERSON)\n"
     ]
    }
   ],
   "source": [
    "# Run NER on each sentence\n",
    "for idx, sentence in enumerate(sentences, 1):\n",
    "    entities = extract_named_entities(sentence)\n",
    "    print(f\"\\nSentence {idx}: {sentence}\")\n",
    "    print(\"Named Entities:\")\n",
    "    for name, entity_type in entities:\n",
    "        print(f\"  - {name} ({entity_type})\")"
   ]
  },
  {
   "cell_type": "code",
   "execution_count": null,
   "id": "de7f37c0",
   "metadata": {},
   "outputs": [],
   "source": []
  }
 ],
 "metadata": {
  "hide_input": false,
  "kernelspec": {
   "display_name": "Python 3 (ipykernel)",
   "language": "python",
   "name": "python3"
  },
  "language_info": {
   "codemirror_mode": {
    "name": "ipython",
    "version": 3
   },
   "file_extension": ".py",
   "mimetype": "text/x-python",
   "name": "python",
   "nbconvert_exporter": "python",
   "pygments_lexer": "ipython3",
   "version": "3.11.5"
  }
 },
 "nbformat": 4,
 "nbformat_minor": 5
}
